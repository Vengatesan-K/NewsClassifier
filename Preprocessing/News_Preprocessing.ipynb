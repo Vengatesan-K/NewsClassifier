{
 "cells": [
  {
   "cell_type": "code",
   "execution_count": 2,
   "id": "90a2b303-f15f-473b-8f95-3fb91c75140f",
   "metadata": {},
   "outputs": [],
   "source": [
    "import pandas as pd\n",
    "import numpy as np\n",
    "from wordcloud import WordCloud\n",
    "import matplotlib.pyplot as plt\n",
    "import seaborn as sns\n",
    "import random"
   ]
  },
  {
   "cell_type": "code",
   "execution_count": 5,
   "id": "a83c6e12-7b2e-4df5-bd71-ee3b181c6166",
   "metadata": {},
   "outputs": [
    {
     "data": {
      "text/html": [
       "<div>\n",
       "<style scoped>\n",
       "    .dataframe tbody tr th:only-of-type {\n",
       "        vertical-align: middle;\n",
       "    }\n",
       "\n",
       "    .dataframe tbody tr th {\n",
       "        vertical-align: top;\n",
       "    }\n",
       "\n",
       "    .dataframe thead th {\n",
       "        text-align: right;\n",
       "    }\n",
       "</style>\n",
       "<table border=\"1\" class=\"dataframe\">\n",
       "  <thead>\n",
       "    <tr style=\"text-align: right;\">\n",
       "      <th></th>\n",
       "      <th>Title</th>\n",
       "      <th>Content</th>\n",
       "    </tr>\n",
       "  </thead>\n",
       "  <tbody>\n",
       "    <tr>\n",
       "      <th>0</th>\n",
       "      <td>Eight dead in Japan earthquake as search for s...</td>\n",
       "      <td>Thousands of people have spent the night in ev...</td>\n",
       "    </tr>\n",
       "    <tr>\n",
       "      <th>1</th>\n",
       "      <td>Watch: How earthquake shook Japan on New Year'...</td>\n",
       "      <td>Dozens of buildings collapse in several towns,...</td>\n",
       "    </tr>\n",
       "    <tr>\n",
       "      <th>2</th>\n",
       "      <td>Australian jailed in Iraq reaches grim milestone</td>\n",
       "      <td>Robert Pether has been detained for 1,000 days...</td>\n",
       "    </tr>\n",
       "    <tr>\n",
       "      <th>3</th>\n",
       "      <td>Nobel laureate Muhammad Yunus sentenced to jail</td>\n",
       "      <td>Supporters of the Bangladeshi economist say th...</td>\n",
       "    </tr>\n",
       "    <tr>\n",
       "      <th>4</th>\n",
       "      <td>Israel Supreme Court strikes down judicial ref...</td>\n",
       "      <td>The controversial plans triggered nationwide p...</td>\n",
       "    </tr>\n",
       "    <tr>\n",
       "      <th>...</th>\n",
       "      <td>...</td>\n",
       "      <td>...</td>\n",
       "    </tr>\n",
       "    <tr>\n",
       "      <th>498</th>\n",
       "      <td>Taiwan's President Tsai urges China to seek 'p...</td>\n",
       "      <td>Taiwan is less than two weeks from an election...</td>\n",
       "    </tr>\n",
       "    <tr>\n",
       "      <th>499</th>\n",
       "      <td>UN peacekeeping mission wraps up Mali deployme...</td>\n",
       "      <td>The UN stabilisation mission MINUSMA, had been...</td>\n",
       "    </tr>\n",
       "    <tr>\n",
       "      <th>500</th>\n",
       "      <td>Guinea junta announces constitutional referendum</td>\n",
       "      <td>The junta also said that people appointed by t...</td>\n",
       "    </tr>\n",
       "    <tr>\n",
       "      <th>501</th>\n",
       "      <td>U.S. Supreme Court Chief Justice urges ‘cautio...</td>\n",
       "      <td>The Chief Justice’s commentary is his most sig...</td>\n",
       "    </tr>\n",
       "    <tr>\n",
       "      <th>502</th>\n",
       "      <td>Japan lowers tsunami warning after a series of...</td>\n",
       "      <td>The quakes, the largest of which had a magnitu...</td>\n",
       "    </tr>\n",
       "  </tbody>\n",
       "</table>\n",
       "<p>503 rows × 2 columns</p>\n",
       "</div>"
      ],
      "text/plain": [
       "                                                Title   \\\n",
       "0    Eight dead in Japan earthquake as search for s...   \n",
       "1    Watch: How earthquake shook Japan on New Year'...   \n",
       "2     Australian jailed in Iraq reaches grim milestone   \n",
       "3      Nobel laureate Muhammad Yunus sentenced to jail   \n",
       "4    Israel Supreme Court strikes down judicial ref...   \n",
       "..                                                 ...   \n",
       "498  Taiwan's President Tsai urges China to seek 'p...   \n",
       "499  UN peacekeeping mission wraps up Mali deployme...   \n",
       "500   Guinea junta announces constitutional referendum   \n",
       "501  U.S. Supreme Court Chief Justice urges ‘cautio...   \n",
       "502  Japan lowers tsunami warning after a series of...   \n",
       "\n",
       "                                               Content  \n",
       "0    Thousands of people have spent the night in ev...  \n",
       "1    Dozens of buildings collapse in several towns,...  \n",
       "2    Robert Pether has been detained for 1,000 days...  \n",
       "3    Supporters of the Bangladeshi economist say th...  \n",
       "4    The controversial plans triggered nationwide p...  \n",
       "..                                                 ...  \n",
       "498  Taiwan is less than two weeks from an election...  \n",
       "499  The UN stabilisation mission MINUSMA, had been...  \n",
       "500  The junta also said that people appointed by t...  \n",
       "501  The Chief Justice’s commentary is his most sig...  \n",
       "502  The quakes, the largest of which had a magnitu...  \n",
       "\n",
       "[503 rows x 2 columns]"
      ]
     },
     "execution_count": 5,
     "metadata": {},
     "output_type": "execute_result"
    }
   ],
   "source": [
    "news_df = pd.read_csv('Final_News_Scrapped.csv')\n",
    "news_df"
   ]
  },
  {
   "cell_type": "code",
   "execution_count": 7,
   "id": "df6c43b7-e2b7-4448-b934-da7b50f70895",
   "metadata": {},
   "outputs": [
    {
     "name": "stdout",
     "output_type": "stream",
     "text": [
      "<class 'pandas.core.frame.DataFrame'>\n",
      "RangeIndex: 503 entries, 0 to 502\n",
      "Data columns (total 2 columns):\n",
      " #   Column     Non-Null Count  Dtype \n",
      "---  ------     --------------  ----- \n",
      " 0   Title      503 non-null    object\n",
      " 1     Content  503 non-null    object\n",
      "dtypes: object(2)\n",
      "memory usage: 8.0+ KB\n"
     ]
    }
   ],
   "source": [
    "news_df.info()"
   ]
  },
  {
   "cell_type": "code",
   "execution_count": 9,
   "id": "69fce001-ba5c-474b-87b8-e5ae42e8d449",
   "metadata": {},
   "outputs": [
    {
     "data": {
      "text/plain": [
       "(503, 2)"
      ]
     },
     "execution_count": 9,
     "metadata": {},
     "output_type": "execute_result"
    }
   ],
   "source": [
    "news_df.shape"
   ]
  },
  {
   "cell_type": "code",
   "execution_count": 18,
   "id": "375d6c36-007f-4d12-951c-5156c99ea64f",
   "metadata": {},
   "outputs": [
    {
     "data": {
      "text/plain": [
       "Index(['Title ', 'Content'], dtype='object')"
      ]
     },
     "execution_count": 18,
     "metadata": {},
     "output_type": "execute_result"
    }
   ],
   "source": [
    "news_df = news_df .rename(columns={'  Content': 'Content'})\n",
    "news_df.columns"
   ]
  },
  {
   "cell_type": "markdown",
   "id": "eaaf9e0f-3fed-4ad8-8606-d13e8b168b79",
   "metadata": {},
   "source": [
    "### Remove HTML tags, advertisements, and non-text content:"
   ]
  },
  {
   "cell_type": "code",
   "execution_count": 12,
   "id": "c8d9dfad-9dad-4a88-a350-e7361fab8f9e",
   "metadata": {},
   "outputs": [],
   "source": [
    "from bs4 import BeautifulSoup\n",
    "import re\n",
    "\n",
    "def clean_html_tags(raw_html):\n",
    "    clean_text = BeautifulSoup(raw_html, 'html.parser').get_text()\n",
    "    return clean_text\n",
    "\n",
    "def remove_non_text(content):\n",
    "    # Remove non-text content using regular expression\n",
    "    clean_text = re.sub(r'[^\\w\\s]', '', content)\n",
    "    return clean_text\n"
   ]
  },
  {
   "cell_type": "markdown",
   "id": "e5a301ef-dd9c-4cef-afae-5287fbaa7caf",
   "metadata": {},
   "source": [
    "### Tokenization and stop words removal:"
   ]
  },
  {
   "cell_type": "code",
   "execution_count": 11,
   "id": "e48b6527-37ae-45b0-8b45-08e84283d1f6",
   "metadata": {},
   "outputs": [
    {
     "name": "stderr",
     "output_type": "stream",
     "text": [
      "[nltk_data] Downloading package punkt to\n",
      "[nltk_data]     C:\\Users\\VENKA\\AppData\\Roaming\\nltk_data...\n",
      "[nltk_data]   Package punkt is already up-to-date!\n",
      "[nltk_data] Downloading package stopwords to\n",
      "[nltk_data]     C:\\Users\\VENKA\\AppData\\Roaming\\nltk_data...\n",
      "[nltk_data]   Package stopwords is already up-to-date!\n"
     ]
    }
   ],
   "source": [
    "import nltk\n",
    "from nltk.tokenize import word_tokenize\n",
    "from nltk.corpus import stopwords\n",
    "\n",
    "nltk.download('punkt')\n",
    "nltk.download('stopwords')\n",
    "\n",
    "stop_words = set(stopwords.words('english'))\n",
    "\n",
    "def tokenize_and_remove_stopwords(text):\n",
    "    tokens = word_tokenize(text)\n",
    "    filtered_tokens = [word for word in tokens if word.lower() not in stop_words]\n",
    "    return filtered_tokens"
   ]
  },
  {
   "cell_type": "markdown",
   "id": "8f05e60e-42aa-464f-9b3a-64c0e729328e",
   "metadata": {},
   "source": [
    "### Lemmatization (using WordNet Lemmatizer from NLTK):"
   ]
  },
  {
   "cell_type": "code",
   "execution_count": 14,
   "id": "e23d27c3-ba44-4638-8e64-1f8371c1b69c",
   "metadata": {},
   "outputs": [
    {
     "name": "stderr",
     "output_type": "stream",
     "text": [
      "[nltk_data] Downloading package wordnet to\n",
      "[nltk_data]     C:\\Users\\VENKA\\AppData\\Roaming\\nltk_data...\n",
      "[nltk_data]   Package wordnet is already up-to-date!\n"
     ]
    }
   ],
   "source": [
    "from nltk.stem import WordNetLemmatizer\n",
    "\n",
    "nltk.download('wordnet')\n",
    "\n",
    "lemmatizer = WordNetLemmatizer()\n",
    "\n",
    "def lemmatize_words(tokens):\n",
    "    lemmatized_tokens = [lemmatizer.lemmatize(word) for word in tokens]\n",
    "    return lemmatized_tokens"
   ]
  },
  {
   "cell_type": "code",
   "execution_count": 19,
   "id": "40059131-90e8-4edd-946e-728be0e71dc1",
   "metadata": {},
   "outputs": [],
   "source": [
    "news_df['Content'] = news_df['Content'].apply(clean_html_tags)\n",
    "news_df['Content'] = news_df['Content'].apply(remove_non_text)\n",
    "news_df['Content'] = news_df['Content'].apply(tokenize_and_remove_stopwords)\n",
    "news_df['Content'] = news_df['Content'].apply(lemmatize_words)\n",
    "\n",
    "news_df.dropna(inplace=True)\n",
    "\n",
    "news_df.to_csv('cleaned_final_content.csv', index=False)"
   ]
  },
  {
   "cell_type": "code",
   "execution_count": 3,
   "id": "a8f69269-91b5-4e19-ba46-d012b82ed183",
   "metadata": {},
   "outputs": [
    {
     "data": {
      "text/html": [
       "<div>\n",
       "<style scoped>\n",
       "    .dataframe tbody tr th:only-of-type {\n",
       "        vertical-align: middle;\n",
       "    }\n",
       "\n",
       "    .dataframe tbody tr th {\n",
       "        vertical-align: top;\n",
       "    }\n",
       "\n",
       "    .dataframe thead th {\n",
       "        text-align: right;\n",
       "    }\n",
       "</style>\n",
       "<table border=\"1\" class=\"dataframe\">\n",
       "  <thead>\n",
       "    <tr style=\"text-align: right;\">\n",
       "      <th></th>\n",
       "      <th>Title</th>\n",
       "      <th>Content</th>\n",
       "    </tr>\n",
       "  </thead>\n",
       "  <tbody>\n",
       "    <tr>\n",
       "      <th>0</th>\n",
       "      <td>Eight dead in Japan earthquake as search for s...</td>\n",
       "      <td>['Thousands', 'people', 'spent', 'night', 'eva...</td>\n",
       "    </tr>\n",
       "    <tr>\n",
       "      <th>1</th>\n",
       "      <td>Watch: How earthquake shook Japan on New Year'...</td>\n",
       "      <td>['Dozens', 'building', 'collapse', 'several', ...</td>\n",
       "    </tr>\n",
       "    <tr>\n",
       "      <th>2</th>\n",
       "      <td>Australian jailed in Iraq reaches grim milestone</td>\n",
       "      <td>['Robert', 'Pether', 'detained', '1000', 'day'...</td>\n",
       "    </tr>\n",
       "    <tr>\n",
       "      <th>3</th>\n",
       "      <td>Nobel laureate Muhammad Yunus sentenced to jail</td>\n",
       "      <td>['Supporters', 'Bangladeshi', 'economist', 'sa...</td>\n",
       "    </tr>\n",
       "    <tr>\n",
       "      <th>4</th>\n",
       "      <td>Israel Supreme Court strikes down judicial ref...</td>\n",
       "      <td>['controversial', 'plan', 'triggered', 'nation...</td>\n",
       "    </tr>\n",
       "    <tr>\n",
       "      <th>...</th>\n",
       "      <td>...</td>\n",
       "      <td>...</td>\n",
       "    </tr>\n",
       "    <tr>\n",
       "      <th>498</th>\n",
       "      <td>Taiwan's President Tsai urges China to seek 'p...</td>\n",
       "      <td>['Taiwan', 'le', 'two', 'week', 'election', 'c...</td>\n",
       "    </tr>\n",
       "    <tr>\n",
       "      <th>499</th>\n",
       "      <td>UN peacekeeping mission wraps up Mali deployme...</td>\n",
       "      <td>['UN', 'stabilisation', 'mission', 'MINUSMA', ...</td>\n",
       "    </tr>\n",
       "    <tr>\n",
       "      <th>500</th>\n",
       "      <td>Guinea junta announces constitutional referendum</td>\n",
       "      <td>['junta', 'also', 'said', 'people', 'appointed...</td>\n",
       "    </tr>\n",
       "    <tr>\n",
       "      <th>501</th>\n",
       "      <td>U.S. Supreme Court Chief Justice urges ‘cautio...</td>\n",
       "      <td>['Chief', 'Justices', 'commentary', 'significa...</td>\n",
       "    </tr>\n",
       "    <tr>\n",
       "      <th>502</th>\n",
       "      <td>Japan lowers tsunami warning after a series of...</td>\n",
       "      <td>['quake', 'largest', 'magnitude', '76', 'start...</td>\n",
       "    </tr>\n",
       "  </tbody>\n",
       "</table>\n",
       "<p>503 rows × 2 columns</p>\n",
       "</div>"
      ],
      "text/plain": [
       "                                                Title   \\\n",
       "0    Eight dead in Japan earthquake as search for s...   \n",
       "1    Watch: How earthquake shook Japan on New Year'...   \n",
       "2     Australian jailed in Iraq reaches grim milestone   \n",
       "3      Nobel laureate Muhammad Yunus sentenced to jail   \n",
       "4    Israel Supreme Court strikes down judicial ref...   \n",
       "..                                                 ...   \n",
       "498  Taiwan's President Tsai urges China to seek 'p...   \n",
       "499  UN peacekeeping mission wraps up Mali deployme...   \n",
       "500   Guinea junta announces constitutional referendum   \n",
       "501  U.S. Supreme Court Chief Justice urges ‘cautio...   \n",
       "502  Japan lowers tsunami warning after a series of...   \n",
       "\n",
       "                                               Content  \n",
       "0    ['Thousands', 'people', 'spent', 'night', 'eva...  \n",
       "1    ['Dozens', 'building', 'collapse', 'several', ...  \n",
       "2    ['Robert', 'Pether', 'detained', '1000', 'day'...  \n",
       "3    ['Supporters', 'Bangladeshi', 'economist', 'sa...  \n",
       "4    ['controversial', 'plan', 'triggered', 'nation...  \n",
       "..                                                 ...  \n",
       "498  ['Taiwan', 'le', 'two', 'week', 'election', 'c...  \n",
       "499  ['UN', 'stabilisation', 'mission', 'MINUSMA', ...  \n",
       "500  ['junta', 'also', 'said', 'people', 'appointed...  \n",
       "501  ['Chief', 'Justices', 'commentary', 'significa...  \n",
       "502  ['quake', 'largest', 'magnitude', '76', 'start...  \n",
       "\n",
       "[503 rows x 2 columns]"
      ]
     },
     "execution_count": 3,
     "metadata": {},
     "output_type": "execute_result"
    }
   ],
   "source": [
    "final_con = pd.read_csv('cleaned_final_content.csv')\n",
    "final_con"
   ]
  },
  {
   "cell_type": "code",
   "execution_count": null,
   "id": "77302982-fcc2-495a-a406-43425e828215",
   "metadata": {},
   "outputs": [],
   "source": [
    "from sklearn.feature_extraction.text import TfidfVectorizer\n",
    "\n",
    "content_list = final_con['Content'].apply(lambda x: ' '.join(x)).tolist()\n",
    "\n",
    "# Initialize TF-IDF Vectorizer\n",
    "tfidf_vectorizer = TfidfVectorizer()\n",
    "\n",
    "# Fit and transform the content data\n",
    "tfidf_matrix = tfidf_vectorizer.fit_transform(content_list)"
   ]
  },
  {
   "cell_type": "code",
   "execution_count": null,
   "id": "4fd0d2f7-b3a6-4cd1-a84a-3bed29cc5b80",
   "metadata": {},
   "outputs": [],
   "source": []
  }
 ],
 "metadata": {
  "kernelspec": {
   "display_name": "Python 3 (ipykernel)",
   "language": "python",
   "name": "python3"
  },
  "language_info": {
   "codemirror_mode": {
    "name": "ipython",
    "version": 3
   },
   "file_extension": ".py",
   "mimetype": "text/x-python",
   "name": "python",
   "nbconvert_exporter": "python",
   "pygments_lexer": "ipython3",
   "version": "3.10.13"
  }
 },
 "nbformat": 4,
 "nbformat_minor": 5
}
